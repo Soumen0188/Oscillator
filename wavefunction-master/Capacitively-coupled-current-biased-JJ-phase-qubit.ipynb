{
 "cells": [
  {
   "cell_type": "markdown",
   "id": "5b11cc3b",
   "metadata": {},
   "source": [
    "# Capacitively coupled current-biased Josephson junction phase qubits\n",
    "\n",
    "Robert Johansson (robert@riken.jp)"
   ]
  },
  {
   "cell_type": "code",
   "execution_count": 1,
   "id": "d92eaa66",
   "metadata": {
    "collapsed": false,
    "jupyter": {
     "outputs_hidden": false
    }
   },
   "outputs": [],
   "source": [
    "%pylab inline"
   ]
  },
  {
   "cell_type": "code",
   "execution_count": 2,
   "id": "6b926eaf",
   "metadata": {
    "collapsed": false,
    "jupyter": {
     "outputs_hidden": false
    }
   },
   "outputs": [],
   "source": [
    "from scipy import *\n",
    "from scipy import optimize"
   ]
  },
  {
   "cell_type": "code",
   "execution_count": 3,
   "id": "21806760",
   "metadata": {
    "collapsed": false,
    "jupyter": {
     "outputs_hidden": false
    }
   },
   "outputs": [],
   "source": [
    "from wavefunction import *"
   ]
  },
  {
   "cell_type": "markdown",
   "id": "4138076e",
   "metadata": {},
   "source": [
    "## Problem parameters"
   ]
  },
  {
   "cell_type": "code",
   "execution_count": 4,
   "id": "849744c2",
   "metadata": {
    "collapsed": false,
    "jupyter": {
     "outputs_hidden": false
    }
   },
   "outputs": [],
   "source": [
    "h = 6.626e-34\n",
    "h_ = h/(2*pi)\n",
    "e = 1.602e-19\n",
    "Phi0 = h / (2 * e)\n",
    "cf = 1\n",
    "\n",
    "H  = 6.626e-34\n",
    "H_ = H/(2*pi)\n",
    "\n",
    "Ic = 13.3e-6\n",
    "\n",
    "#Cj = 4.3e-12\n",
    "\n",
    "ceta = 0.005\n",
    "Cj = 4.3e-12\n",
    "j1 = 0.975\n",
    "\n",
    "dj2 = 0.001\n",
    "J2 = arange(0.9701, 0.98, dj2) \n",
    "\n",
    "# discretize the x coordinate\n",
    "xmin = -0.7 * pi\n",
    "xmax =  4 * pi\n",
    "N = 750\n",
    "D = arange(xmin, xmax, (xmax-xmin)/N)"
   ]
  },
  {
   "cell_type": "markdown",
   "id": "73c1adc6",
   "metadata": {},
   "source": [
    "## Potential"
   ]
  },
  {
   "cell_type": "code",
   "execution_count": 5,
   "id": "01d7f762",
   "metadata": {
    "collapsed": false,
    "jupyter": {
     "outputs_hidden": false
    }
   },
   "outputs": [],
   "source": [
    "def U_current_biased(x, args):\n",
    "    \"\"\"\n",
    "    Potential for a current-biased phase qubit potential\n",
    "    (the washboard potential)\n",
    "    \"\"\"\n",
    "    Ej = args['Ej']\n",
    "    Ic = args['Ic']\n",
    "    Ib = args['Ib']\n",
    "\n",
    "    u = - Ej * (cos(x) + Ib / Ic * x)\n",
    "\n",
    "    return u"
   ]
  },
  {
   "cell_type": "code",
   "execution_count": 6,
   "id": "6a538e2e",
   "metadata": {
    "collapsed": false,
    "jupyter": {
     "outputs_hidden": false
    }
   },
   "outputs": [],
   "source": [
    "def jjpq_current_biased_me(ceta, Cj, cf_p, J):\n",
    "\n",
    "    Ib = J * Ic \n",
    "    mm = Cj * (1 + ceta) * (Phi0/(2*pi))**2 * cf\n",
    "    Ej = Phi0/(2*pi) * Ic / cf\n",
    "    \n",
    "    U_args = {'Ej': Ej, 'Ic': Ic, 'Ib': Ib}\n",
    "    S_param = array([h_, mm])\n",
    "    \n",
    "    # Calculate the eigenfunctions\n",
    "    M = schrodinger_matrix(xmin, xmax, N, S_param, U_current_biased, U_args)\n",
    "    evals,evec = eigenvectors_sorted(M);\n",
    "    \n",
    "    # Find bound states\n",
    "    dmin = math.asin(Ib/Ic)\n",
    "    dmax = -math.asin(Ib/Ic) + pi\n",
    "    delta = dmax-dmin\n",
    "    \n",
    "    Umin = U_current_biased(dmin, U_args);\n",
    "    Umax = U_current_biased(dmax, U_args);\n",
    "    dU = Umax - Umin;\n",
    "    \n",
    "    boundidx = []\n",
    "    for i in range(0,N):\n",
    "        if evals[i] > Umin-0.5*dU and evals[i] < Umax+0.5*dU:\n",
    "            if inner(evec[:,i] * (dmin-delta < D) * (D < dmax), evec[:,i]) > 0.85:\n",
    "                boundidx.append(i)\n",
    "\n",
    "    # Evaluate matrix elements:\n",
    "    inner_prod = zeros((len(boundidx), len(boundidx))).astype(float)\n",
    "    expect_pos = zeros((len(boundidx), len(boundidx))).astype(float)\n",
    "    expect_kin = zeros((len(boundidx), len(boundidx))).astype(float)\n",
    "    energy_levels = zeros(len(boundidx)).astype(float)\n",
    "    \n",
    "    for i in range(0, len(boundidx)):\n",
    "        l = boundidx[i]\n",
    "        energy_levels[i] = evals[l]\n",
    "    \n",
    "        for j in range(0, len(boundidx)):\n",
    "            k = boundidx[j]\n",
    "    \n",
    "            inner_prod[i,j] = inner(evec[:,k], evec[:,l])\n",
    "            expect_pos[i,j] = inner(evec[:,k], evec[:,l] * D)\n",
    "            expect_kin[i,j] = inner(evec[:,k], derivative(evec[:,l], D))\n",
    "    \n",
    "    return energy_levels, expect_pos, expect_kin"
   ]
  },
  {
   "cell_type": "code",
   "execution_count": 7,
   "id": "f3f90174",
   "metadata": {
    "collapsed": false,
    "jupyter": {
     "outputs_hidden": false
    }
   },
   "outputs": [
    {
     "name": "stderr",
     "output_type": "stream",
     "text": [
      "-c:25: ComplexWarning: Casting complex values to real discards the imaginary part\n"
     ]
    }
   ],
   "source": [
    "E1, Ed1, Edd1 = jjpq_current_biased_me(ceta, Cj, cf, j1)\n",
    "P1 = h_ /1j  * Edd1 \n",
    "\n",
    "eval_idx = 0\n",
    "eval_store = zeros((len(J2),9)).astype(float)\n",
    "\n",
    "for j2 in J2:\n",
    "\n",
    "    E2, Ed2, Edd2 = jjpq_current_biased_me(ceta, Cj, cf, j2);\n",
    "    P2 = h_ / 1j * Edd2;\n",
    "\n",
    "    H = zeros((9,9)).astype(float)\n",
    "    Hint = zeros((9,9)).astype(float)\n",
    "    \n",
    "    for K1 in range(0,3):\n",
    "        for K2 in range(0,3):\n",
    "            for L1 in range(0,3):\n",
    "                for L2 in range(0,3):\n",
    "                    I1 = K1 + 3 * (L1)\n",
    "                    I2 = K2 + 3 * (L2)\n",
    "               \n",
    "                    H[I1,I2] =            (E1[K1] - (1*E1[0]+1*E1[1])/2) * (K1 == K2) * (L1 == L2)\n",
    "                    H[I1,I2] = H[I1,I2] + (E2[L1] - (1*E2[0]+1*E2[1])/2) * (K1 == K2) * (L1 == L2)\n",
    "            \n",
    "                    Hint[I1,I2] = (2*pi / Phi0)**2 * ceta / (Cj * ( 1 + ceta)) * P1[K1,K2] * P2[L1,L2] / cf\n",
    "\n",
    "    H = H + Hint\t\t\n",
    "    H = H / (2*pi * 1e9)\n",
    "\n",
    "    evals, evecs =  eigenvectors_sorted(H)\n",
    "    eval_store[eval_idx, :] = evals\n",
    "    eval_idx = eval_idx + 1"
   ]
  },
  {
   "cell_type": "code",
   "execution_count": 8,
   "id": "18f6de05",
   "metadata": {
    "collapsed": false,
    "jupyter": {
     "outputs_hidden": false
    }
   },
   "outputs": [
    {
     "data": {
      "text/plain": [
       "<matplotlib.text.Text at 0x4713310>"
      ]
     },
     "execution_count": 8,
     "metadata": {},
     "output_type": "execute_result"
    },
    {
     "data": {
      "image/png": "[encoded data removed]"
     },
     "metadata": {},
     "output_type": "display_data"
    }
   ],
   "source": [
    "fig, ax = subplots(1, 1, figsize=(12,6))\n",
    " \n",
    "for n in range(6):\n",
    "    ax.plot(J2, eval_store[:,n])\n",
    "    \n",
    "ax.axis('tight');\n",
    "ax.set_xlabel(r'$J_2$')\n",
    "ax.set_ylabel(r'$E_n$')\n",
    "ax.set_title(r'Energy levels of ...')"
   ]
  }
 ],
 "metadata": {
  "kernelspec": {
   "display_name": "Python 3 (ipykernel)",
   "language": "python",
   "name": "python3"
  },
  "language_info": {
   "codemirror_mode": {
    "name": "ipython",
    "version": 3
   },
   "file_extension": ".py",
   "mimetype": "text/x-python",
   "name": "python",
   "nbconvert_exporter": "python",
   "pygments_lexer": "ipython3",
   "version": "3.12.5"
  }
 },
 "nbformat": 4,
 "nbformat_minor": 5
}
